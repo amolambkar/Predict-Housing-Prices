{
 "cells": [
  {
   "cell_type": "markdown",
   "metadata": {},
   "source": [
    "# Linear Regression with Multiple variables"
   ]
  },
  {
   "cell_type": "markdown",
   "metadata": {},
   "source": [
    "Suppose you are selling your house and you want to know what a good market price would be. One way to do this is to first collect information on recent houses sold and make a model of housing prices. Your job is to predict housing prices based on other variables.\n"
   ]
  },
  {
   "cell_type": "markdown",
   "metadata": {},
   "source": [
    "The file ex1data2.txt contains a training set of housing prices in Portland, Oregon. The first column is the size of the house (in square feet), the second column is the number of bedrooms, and the third column is the price of the house."
   ]
  },
  {
   "cell_type": "code",
   "execution_count": 1,
   "metadata": {},
   "outputs": [],
   "source": [
    "import numpy as np\n",
    "import pandas as pd\n"
   ]
  },
  {
   "cell_type": "code",
   "execution_count": 2,
   "metadata": {},
   "outputs": [
    {
     "data": {
      "text/html": [
       "<div>\n",
       "<style scoped>\n",
       "    .dataframe tbody tr th:only-of-type {\n",
       "        vertical-align: middle;\n",
       "    }\n",
       "\n",
       "    .dataframe tbody tr th {\n",
       "        vertical-align: top;\n",
       "    }\n",
       "\n",
       "    .dataframe thead th {\n",
       "        text-align: right;\n",
       "    }\n",
       "</style>\n",
       "<table border=\"1\" class=\"dataframe\">\n",
       "  <thead>\n",
       "    <tr style=\"text-align: right;\">\n",
       "      <th></th>\n",
       "      <th>0</th>\n",
       "      <th>1</th>\n",
       "      <th>2</th>\n",
       "    </tr>\n",
       "  </thead>\n",
       "  <tbody>\n",
       "    <tr>\n",
       "      <th>0</th>\n",
       "      <td>2104</td>\n",
       "      <td>3</td>\n",
       "      <td>399900</td>\n",
       "    </tr>\n",
       "    <tr>\n",
       "      <th>1</th>\n",
       "      <td>1600</td>\n",
       "      <td>3</td>\n",
       "      <td>329900</td>\n",
       "    </tr>\n",
       "    <tr>\n",
       "      <th>2</th>\n",
       "      <td>2400</td>\n",
       "      <td>3</td>\n",
       "      <td>369000</td>\n",
       "    </tr>\n",
       "    <tr>\n",
       "      <th>3</th>\n",
       "      <td>1416</td>\n",
       "      <td>2</td>\n",
       "      <td>232000</td>\n",
       "    </tr>\n",
       "    <tr>\n",
       "      <th>4</th>\n",
       "      <td>3000</td>\n",
       "      <td>4</td>\n",
       "      <td>539900</td>\n",
       "    </tr>\n",
       "  </tbody>\n",
       "</table>\n",
       "</div>"
      ],
      "text/plain": [
       "      0  1       2\n",
       "0  2104  3  399900\n",
       "1  1600  3  329900\n",
       "2  2400  3  369000\n",
       "3  1416  2  232000\n",
       "4  3000  4  539900"
      ]
     },
     "execution_count": 2,
     "metadata": {},
     "output_type": "execute_result"
    }
   ],
   "source": [
    "data = pd.read_csv('ex1data2.txt',sep = ',', header = None) #loading data from the file\n",
    "\n",
    "X = data.iloc[:,0:2] #read first two columns into X\n",
    "y = data.iloc[:,2]   #read the third column into y\n",
    "\n",
    "m = len(y) #total number of training samples\n",
    "\n",
    "data.head()"
   ]
  },
  {
   "cell_type": "markdown",
   "metadata": {},
   "source": [
    "### Feature Normalization"
   ]
  },
  {
   "cell_type": "markdown",
   "metadata": {},
   "source": [
    "By looking at the values, note that house sizes are about 1000 times the number of bedrooms. When features differ by orders of magnitude, first performing feature scaling can make gradient descent converge much more quickly."
   ]
  },
  {
   "cell_type": "markdown",
   "metadata": {},
   "source": [
    "Our task here is to:\n",
    "\n",
    "    Subtract the mean value of each feature from the dataset.\n",
    "    \n",
    "    After subtracting the mean, additionally scale (divide) the feature values by their respective “standard deviations.”"
   ]
  },
  {
   "cell_type": "code",
   "execution_count": 3,
   "metadata": {},
   "outputs": [],
   "source": [
    "X = (X-np.mean(X))/np.std(X)"
   ]
  },
  {
   "cell_type": "markdown",
   "metadata": {},
   "source": [
    "### Adding the intercept term and initializing parameters"
   ]
  },
  {
   "cell_type": "code",
   "execution_count": 4,
   "metadata": {},
   "outputs": [],
   "source": [
    "ones = np.ones((m,1))\n",
    "\n",
    "X = np.hstack((ones,X)) #adding the intercept term\n",
    "\n",
    "alpha = 0.01\n",
    "iterations = 400\n",
    "\n",
    "theta = np.zeros((3,1))\n",
    "\n",
    "y = y[:,np.newaxis]"
   ]
  },
  {
   "cell_type": "markdown",
   "metadata": {},
   "source": [
    "### Computing the Cost"
   ]
  },
  {
   "cell_type": "code",
   "execution_count": 5,
   "metadata": {},
   "outputs": [
    {
     "name": "stdout",
     "output_type": "stream",
     "text": [
      "65591548106.45744\n"
     ]
    }
   ],
   "source": [
    "def ComputeCost(X,y,theta):\n",
    "    temp = np.dot(X,theta) - y\n",
    "    return np.sum(np.power(temp,2)) / (2*m)\n",
    "\n",
    "J = ComputeCost(X,y,theta)\n",
    "print(J)"
   ]
  },
  {
   "cell_type": "raw",
   "metadata": {},
   "source": [
    "You should expect to see a cost of 65591548106.45744."
   ]
  },
  {
   "cell_type": "markdown",
   "metadata": {},
   "source": [
    "### Finding the optimal parameters using Gradient Descent"
   ]
  },
  {
   "cell_type": "code",
   "execution_count": 6,
   "metadata": {},
   "outputs": [
    {
     "name": "stdout",
     "output_type": "stream",
     "text": [
      "[[334302.06399328]\n",
      " [ 99411.44947359]\n",
      " [  3267.01285407]]\n"
     ]
    }
   ],
   "source": [
    "def GradientDescentMulti(X,y,theta,alpha,iterations):\n",
    "    m = len(y)\n",
    "    for _ in range(iterations):\n",
    "        temp = np.dot(X,theta) - y\n",
    "        temp = np.dot(X.T,temp)\n",
    "        theta = theta - ((alpha/m) * temp)\n",
    "    \n",
    "    return theta\n",
    "\n",
    "theta = GradientDescentMulti(X,y,theta,alpha,iterations)\n",
    "\n",
    "print(theta)"
   ]
  },
  {
   "cell_type": "markdown",
   "metadata": {},
   "source": [
    "your optimal parameters will be [[334302.06399328],[ 99411.44947359], [3267.01285407]]"
   ]
  },
  {
   "cell_type": "code",
   "execution_count": 7,
   "metadata": {},
   "outputs": [
    {
     "name": "stdout",
     "output_type": "stream",
     "text": [
      "2105448288.6292474\n"
     ]
    }
   ],
   "source": [
    "J = ComputeCost(X,y,theta)\n",
    "print(J)"
   ]
  },
  {
   "cell_type": "raw",
   "metadata": {},
   "source": [
    "This should give you a value of 2105448288.6292474 which is much better than 65591548106.45744"
   ]
  },
  {
   "cell_type": "markdown",
   "metadata": {},
   "source": [
    "### Predict Price"
   ]
  },
  {
   "cell_type": "code",
   "execution_count": 8,
   "metadata": {},
   "outputs": [],
   "source": [
    "def predict(predict_data):\n",
    "    prediction = np.dot(predict_data,theta)\n",
    "    return prediction"
   ]
  },
  {
   "cell_type": "code",
   "execution_count": 9,
   "metadata": {},
   "outputs": [],
   "source": [
    "predict_data = pd.read_csv('predict_price.txt',sep = ',', header = None)\n",
    "\n",
    "predict_data = predict_data.iloc[:,0:2]\n",
    "\n",
    "predict_data = (predict_data-np.mean(predict_data))/np.std(predict_data) #feature normalization\n",
    "\n",
    "m_predict = len(predict_data)\n",
    "\n",
    "ones = np.ones((m_predict,1))\n",
    "\n",
    "predict_data = np.hstack((ones,predict_data)) #adding the intercept term"
   ]
  },
  {
   "cell_type": "code",
   "execution_count": 10,
   "metadata": {},
   "outputs": [
    {
     "name": "stdout",
     "output_type": "stream",
     "text": [
      "[[347832.52653941]\n",
      " [432970.08579739]\n",
      " [402430.43344971]\n",
      " [222158.47544306]\n",
      " [505419.41642307]\n",
      " [499054.68320529]\n",
      " [249992.99271472]\n",
      " [231626.62408447]\n",
      " [219769.14510811]\n",
      " [243127.06051649]\n",
      " [323472.21317014]\n",
      " [333771.11146747]]\n"
     ]
    }
   ],
   "source": [
    "price = predict(predict_data)\n",
    "\n",
    "print(price)"
   ]
  },
  {
   "cell_type": "code",
   "execution_count": null,
   "metadata": {},
   "outputs": [],
   "source": []
  }
 ],
 "metadata": {
  "kernelspec": {
   "display_name": "Python 3",
   "language": "python",
   "name": "python3"
  },
  "language_info": {
   "codemirror_mode": {
    "name": "ipython",
    "version": 3
   },
   "file_extension": ".py",
   "mimetype": "text/x-python",
   "name": "python",
   "nbconvert_exporter": "python",
   "pygments_lexer": "ipython3",
   "version": "3.7.6"
  }
 },
 "nbformat": 4,
 "nbformat_minor": 4
}
